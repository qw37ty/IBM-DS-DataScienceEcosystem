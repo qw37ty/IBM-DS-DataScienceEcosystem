{
 "cells": [
  {
   "cell_type": "markdown",
   "id": "5ae7d585-57dd-4bed-843e-a634e802239e",
   "metadata": {},
   "source": [
    "# **Assignment Topic**\n",
    "\n",
    "## I was provided with an empty Jupyterlite notebook which I launched in the course, to complete this assignment. I needed to include a combination of markdown and code cells. I did not needed to use the Markdown cheat sheet to help me determine the appropriate syntax for my markdown.\n",
    "\n",
    "### Guidelines for the submission:\n",
    "#### There are a total of 25 points possible for this final project.\n",
    "\n",
    "##### I hope I will succeed, based on the following Exercises:\n",
    "\n",
    "1. Exercise 2 - Create a markdown cell with the title of the notebook. (1 pt)\n",
    "2. Exercise 3 - Create a markdown cell for an introduction. (1 pt)3. \r",
    "3. Exercise 4 - Create a markdown cell to list data science languages. (3 pts4. )4. \r",
    "4. Exercise 5 - Create a markdown cell to list data science libraries. (3 pt5. s5. )5. . (1 pt)\n",
    "5. Exercise 6 - Create a markdown cell with a table of Data Science tools. (3 p6. t6. s6. )\n",
    "6. Exercise 7 - Create a markdown cell introducing arithmetic expression examples. (17.  7. p7. t)\n",
    "7. Exercise 8 - Create a code cell to multiply and add numbers.(28.  8. p8. ts)\n",
    "8. Exercise 9 - Create a code cell to convert minutes to hours. (9. 29.  9. pts)\n",
    "9. Exercise 10 -Insert a markdown cell to list Objectives. 10. (10. 310.  pts)\n",
    "10 Exercise 11 - Create a markdown cell to indicate the Author’s name.11.  11. (11. 2 pts)\n",
    "11. Exercise 12 - Share your notebook through GitHu12. b12.  12. (3 pts)\n",
    "12. Exercise 13 - Take a screenshot of the first page of the notebook. (1 pt)"
   ]
  },
  {
   "cell_type": "markdown",
   "id": "2644495e-d29f-48f0-ad72-4ca6942a98dc",
   "metadata": {},
   "source": [
    "# Exercise 1: Create a Jupyter Notebook"
   ]
  },
  {
   "cell_type": "markdown",
   "id": "f5f2db96-2f1f-498b-982a-027944a77862",
   "metadata": {},
   "source": [
    "## **Name:** Peer-graded_Assignment_Submitting_My_Work"
   ]
  },
  {
   "cell_type": "markdown",
   "id": "36abdcca-2724-41c2-b9f9-d0b5305b023e",
   "metadata": {},
   "source": [
    "**Exercise 2 - Create a markdown cell with the title of the notebook.**"
   ]
  },
  {
   "cell_type": "markdown",
   "id": "61d77ef4-7970-43aa-8ca5-8aece6f428a4",
   "metadata": {},
   "source": [
    "# Data Science Tools and Ecosystem"
   ]
  },
  {
   "cell_type": "markdown",
   "id": "74cb7444-5889-4579-80d9-db42dc88e513",
   "metadata": {},
   "source": [
    "**Exercise 3 - Create a markdown cell for an introduction. (1 pt)**"
   ]
  },
  {
   "cell_type": "markdown",
   "id": "e73dc487-d0a2-4d0a-901e-2cd53541890d",
   "metadata": {},
   "source": [
    "In this notebook, Data Science Tools and Ecosystem are summarized."
   ]
  },
  {
   "cell_type": "markdown",
   "id": "9c7284a3-3b3e-48a1-ae6b-c3fe4c25c9ac",
   "metadata": {},
   "source": [
    "**Objectives:**\n",
    "\n",
    "- List popular languages that Data Scientists use.\n",
    "- List commonly used libraries used by Data Scientists.\n",
    "- Comment on Data Science tools."
   ]
  },
  {
   "cell_type": "markdown",
   "id": "c1675a63-d680-44ab-b193-56666b5b4782",
   "metadata": {},
   "source": [
    "**Exercise 4 - Create a markdown cell to list data science languages. (3 pts)**"
   ]
  },
  {
   "cell_type": "markdown",
   "id": "5ed6d87a-a454-4485-a657-c314f9978bde",
   "metadata": {},
   "source": [
    "Some of the popular languages that Data Scientists use are:\n",
    "\n",
    "1. Python\n",
    "2. R\n",
    "3. SQL\n",
    "4. Java\n",
    "5. Julia\n",
    "6. Scala\n",
    "7. C/C++\n",
    "8. JavaScriptript"
   ]
  },
  {
   "cell_type": "markdown",
   "id": "ae22b45f-1c3d-4db3-ae21-e1ff4a0f2119",
   "metadata": {},
   "source": [
    "**Exercise 5 - Create a markdown cell to list data science libraries. (3 pts)**"
   ]
  },
  {
   "cell_type": "markdown",
   "id": "d5fca52d-926c-4d84-a00f-4e3ca6923d2e",
   "metadata": {},
   "source": [
    "Some of the commonly used libraries used by Data Scientists include:\r\n",
    "1. TensorFlow.\n",
    "2. NumPy.\n",
    "3. SciPy.\n",
    "4. Pandas.\n",
    "5. Matplotlib.\n",
    "6. Keras.\n",
    "7. SciKit-Learn.\n",
    "8. PyTorch.\n",
    "9. Scrapy.\n",
    "10. BeautifulSoup.\n",
    "11. LightGBM.\n",
    "12. ELI5.\n",
    "13. Theano.\n",
    "14. NuPIC.\n",
    "15. Ramp.\n",
    "16. Pipenv.\n",
    "17. Bob.\n",
    "18. PyBrain.\n",
    "19. Caffe2.\n",
    "20. Chainerr."
   ]
  },
  {
   "cell_type": "markdown",
   "id": "c90fbed0-f5ee-4e5e-94cf-f23bee8ca354",
   "metadata": {},
   "source": [
    "**Exercise 6 - Create a markdown cell with a table of Data Science tools. (3 pts)**"
   ]
  },
  {
   "cell_type": "markdown",
   "id": "294df182-e6b4-41cd-a57c-6f9c0ad4c679",
   "metadata": {},
   "source": [
    "Data Science Tools:"
   ]
  },
  {
   "cell_type": "markdown",
   "id": "1bbe793c-bd43-4398-908b-7b50662e77be",
   "metadata": {},
   "source": [
    "\n",
    "| Data Science Tools |\n",
    "| ------------------ | \n",
    "| SAS. It is one of those data science tools which are specifically designed for statistical operation |\n",
    "| Apache Spark |  \n",
    "| BigML |\n"
   ]
  },
  {
   "cell_type": "markdown",
   "id": "d45d226a-f87a-4cea-bbed-aa7d3c947542",
   "metadata": {},
   "source": [
    "**Exercise 7 - Create a markdown cell introducing arithmetic expression examples. (1 pt)**"
   ]
  },
  {
   "cell_type": "markdown",
   "id": "292f2c6a-9f61-4735-83ac-1ed90f8da299",
   "metadata": {},
   "source": [
    "### Below are a few examples of evaluating arithmetic expressions in Python."
   ]
  },
  {
   "cell_type": "code",
   "execution_count": 8,
   "id": "14f43862-070a-458a-a0aa-76582a8f0f63",
   "metadata": {},
   "outputs": [
    {
     "data": {
      "text/plain": [
       "9"
      ]
     },
     "execution_count": 8,
     "metadata": {},
     "output_type": "execute_result"
    }
   ],
   "source": [
    "# Arithmetic operations\n",
    "code = compile(\"5 + 4\", \"<string>\", \"eval\")\n",
    "eval(code)\n",
    "# Result: 9"
   ]
  },
  {
   "cell_type": "code",
   "execution_count": 10,
   "id": "3db76174-e5bd-44a8-9f1d-fff867199de6",
   "metadata": {},
   "outputs": [
    {
     "data": {
      "text/plain": [
       "24"
      ]
     },
     "execution_count": 10,
     "metadata": {},
     "output_type": "execute_result"
    }
   ],
   "source": [
    "code1 = compile(\"(5 + 7) * 2\", \"<string>\", \"eval\")\n",
    "eval(code1)\n",
    "# Result: 24"
   ]
  },
  {
   "cell_type": "code",
   "execution_count": 12,
   "id": "b14b2ff4-3cc3-49a9-983a-00e8092a81b8",
   "metadata": {},
   "outputs": [
    {
     "data": {
      "text/plain": [
       "65449.84694978735"
      ]
     },
     "execution_count": 12,
     "metadata": {},
     "output_type": "execute_result"
    }
   ],
   "source": [
    "import math\n",
    "# Volume of a sphere\n",
    "code2 = compile(\"4 / 3 * math.pi * math.pow(25, 3)\", \"<string>\", \"eval\")\n",
    "eval(code2)\n",
    "# Result: 65449.84694978735"
   ]
  },
  {
   "cell_type": "markdown",
   "id": "2e22bd62-4fd1-4a3e-810b-baa2547a3b0a",
   "metadata": {},
   "source": [
    "**Exercise 8 - Create a code cell to multiply and add numbers.(2 pts)**"
   ]
  },
  {
   "cell_type": "code",
   "execution_count": 22,
   "id": "8238d3b6-5522-47bb-b565-8ad48fc3dce0",
   "metadata": {},
   "outputs": [
    {
     "data": {
      "text/plain": [
       "17"
      ]
     },
     "execution_count": 22,
     "metadata": {},
     "output_type": "execute_result"
    }
   ],
   "source": [
    "#This a simple arithmetic expression to mutiply then add integers\n",
    "\n",
    "(3*4)+5\n",
    "# Result: 17"
   ]
  },
  {
   "cell_type": "markdown",
   "id": "493353c3-a626-4aa8-b0db-f01a2f7b712a",
   "metadata": {},
   "source": [
    "**Exercise 9 - Create a code cell to convert minutes to hours. (2 pts)**"
   ]
  },
  {
   "cell_type": "code",
   "execution_count": 24,
   "id": "f6a0ac7a-0b6d-4184-9c16-e88ca2fc300c",
   "metadata": {},
   "outputs": [
    {
     "name": "stdout",
     "output_type": "stream",
     "text": [
      "0 days, 3.3333333333333335 hours, 0 mins. \n"
     ]
    }
   ],
   "source": [
    "#This will convert 200 minutes to hours by diving by 60\n",
    "\n",
    "days = 0\n",
    "hours = 0\n",
    "mins = 0\n",
    "\n",
    "time = 200\n",
    "#days = time / 1440\n",
    "leftover_minutes = time % 1440\n",
    "hours = leftover_minutes / 60\n",
    "#mins = time - (days*1440) - (hours*60)\n",
    "print(str(days) + \" days, \" + str(hours) + \" hours, \" + str(mins) +  \" mins. \")\n",
    "\n",
    "# Result: 3.3333333333333335 hours"
   ]
  },
  {
   "cell_type": "markdown",
   "id": "09580514-7a1c-4846-b6e1-a4655ced233e",
   "metadata": {},
   "source": [
    "**Exercise 10 -Insert a markdown cell to list Objectives.**"
   ]
  },
  {
   "cell_type": "markdown",
   "id": "ad4b24bc-1841-465a-96e9-450ad6813280",
   "metadata": {},
   "source": [
    "Below the introduction cell created in Exercise 3, insert a new markdown cell to list the objectives that this notebook covered (i.e. some of the key takeaways from the course). In this new cell start with an introductory line titled: Objectives: in bold font. Then using an unordered list (bullets) indicate 3 to 5 items covered in this notebook, such as List popular languages for Data Science."
   ]
  },
  {
   "cell_type": "markdown",
   "id": "f0e0e323-8480-45bf-bb4a-d30f516ba49e",
   "metadata": {},
   "source": [
    "**Exercise 11 - Create a markdown cell to indicate the Author’s name.**"
   ]
  },
  {
   "cell_type": "markdown",
   "id": "53051aae-57a2-458d-b78c-214132bd4c01",
   "metadata": {},
   "source": [
    "## Author:\n",
    "Hailish Ameha"
   ]
  },
  {
   "cell_type": "code",
   "execution_count": null,
   "id": "04f1d1fa-1b11-4af3-a52e-88289ac0e124",
   "metadata": {},
   "outputs": [],
   "source": []
  }
 ],
 "metadata": {
  "kernelspec": {
   "display_name": "Python 3 (ipykernel)",
   "language": "python",
   "name": "python3"
  },
  "language_info": {
   "codemirror_mode": {
    "name": "ipython",
    "version": 3
   },
   "file_extension": ".py",
   "mimetype": "text/x-python",
   "name": "python",
   "nbconvert_exporter": "python",
   "pygments_lexer": "ipython3",
   "version": "3.12.4"
  }
 },
 "nbformat": 4,
 "nbformat_minor": 5
}
